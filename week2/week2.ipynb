{
 "cells": [
  {
   "cell_type": "code",
   "execution_count": null,
   "metadata": {
    "collapsed": false
   },
   "outputs": [],
   "source": [
    "!python --version"
   ]
  },
  {
   "cell_type": "code",
   "execution_count": null,
   "metadata": {
    "collapsed": false
   },
   "outputs": [],
   "source": [
    "userAge1 = 23.0\n",
    "userAge2 = 32.0\n",
    "userAge2%userAge1"
   ]
  },
  {
   "cell_type": "code",
   "execution_count": null,
   "metadata": {
    "collapsed": false
   },
   "outputs": [],
   "source": [
    "## Comparison using if statement\n",
    "userAgeStr = raw_input(\"Enter your age:\")\n",
    "userAge = int(userAgeStr)\n",
    "\n",
    "if userAge < 18:\n",
    "    print \"User is an adult\""
   ]
  },
  {
   "cell_type": "code",
   "execution_count": null,
   "metadata": {
    "collapsed": false
   },
   "outputs": [],
   "source": [
    "## Comparison using if statement\n",
    "userName = raw_input(\"Enter your name:\")\n",
    "\n",
    "if userName == \"Michael\":\n",
    "    print \"Found Michael!\""
   ]
  },
  {
   "cell_type": "code",
   "execution_count": null,
   "metadata": {
    "collapsed": true
   },
   "outputs": [],
   "source": [
    "product = 0\n",
    "for i in range(1,10000000):geStr)\n",
    "\n",
    "if userAge < 18:\n",
    "    product = product*i"
   ]
  },
  {
   "cell_type": "code",
   "execution_count": null,
   "metadata": {
    "collapsed": false
   },
   "outputs": [],
   "source": [
    "## Comparison using if statement\n",
    "userAgeStr = raw_input(\"Enter your age:\")\n",
    "userAge = int(userAgeStr)\n",
    "\n",
    "if userAge < 18:\n",
    "    print \"User is not an adult\"\n",
    "else:\n",
    "    print \"User is an adult\""
   ]
  },
  {
   "cell_type": "code",
   "execution_count": null,
   "metadata": {
    "collapsed": false
   },
   "outputs": [],
   "source": [
    "## Comparison using if statement\n",
    "userName = raw_input(\"Enter your name:\")\n",
    "\n",
    "if userName == \"Michael\":\n",
    "    print \"Found Michael!\"\n",
    "elif userName == \"Joe\":\n",
    "    print \"Found Joe!\"\n",
    "elif userName == \"Mary\":\n",
    "    print \"Found Mary!\"\n",
    "else:\n",
    "    print \"Sorry...could not find Michael, Joe or Mary...\""
   ]
  },
  {
   "cell_type": "code",
   "execution_count": null,
   "metadata": {
    "collapsed": false
   },
   "outputs": [],
   "source": [
    "asfads\n",
    "userName = raw_input(\"Enter user name:\")\n",
    "userAccountBalance = int(raw_input(\"Enter user account balance:\"))\n",
    "userWithdrawalAmount = int(raw_input(\"Enter amount user wants to withdraw:\"))\n",
    "userODProtection = raw_input(\"Does user have OD enabled (True/False)?\")\n",
    "\n",
    "odProtection = False\n",
    "if userODProtection == \"True\":\n",
    "    odProtection = True\n",
    "\n",
    "print type(userODProtection)\n",
    "print userODProtection\n",
    "\n",
    "if userWithdrawalAmount <= userAccountBalance:\n",
    "    print \"User has sufficient funds\"\n",
    "elif odProtection:\n",
    "    print \"User has insufficient funds but has OD enabled\"\n",
    "else:\n",
    "    print \"User has insufficient funds and no OD enabled\""
   ]
  },
  {
   "cell_type": "code",
   "execution_count": 27,
   "metadata": {
    "collapsed": false
   },
   "outputs": [
    {
     "data": {
      "text/plain": [
       "[1, 2, 3, 4]"
      ]
     },
     "execution_count": 27,
     "metadata": {},
     "output_type": "execute_result"
    }
   ],
   "source": [
    "range(1,5)"
   ]
  },
  {
   "cell_type": "code",
   "execution_count": 28,
   "metadata": {
    "collapsed": false
   },
   "outputs": [
    {
     "data": {
      "text/plain": [
       "[0, 1, 2, 3, 4, 5, 6, 7, 8, 9, 10, 11, 12, 13, 14, 15, 16, 17, 18, 19]"
      ]
     },
     "execution_count": 28,
     "metadata": {},
     "output_type": "execute_result"
    }
   ],
   "source": [
    "range(0,20)"
   ]
  },
  {
   "cell_type": "code",
   "execution_count": 29,
   "metadata": {
    "collapsed": false
   },
   "outputs": [
    {
     "data": {
      "text/plain": [
       "[6, 7, 8, 9]"
      ]
     },
     "execution_count": 29,
     "metadata": {},
     "output_type": "execute_result"
    }
   ],
   "source": [
    "range(6,10)"
   ]
  },
  {
   "cell_type": "code",
   "execution_count": 35,
   "metadata": {
    "collapsed": false
   },
   "outputs": [
    {
     "name": "stdout",
     "output_type": "stream",
     "text": [
      "55\n"
     ]
    }
   ],
   "source": [
    "total = 0\n",
    "for index in range(10,0,-1):\n",
    "    total = total + index\n",
    "    \n",
    "print total"
   ]
  },
  {
   "cell_type": "code",
   "execution_count": 44,
   "metadata": {
    "collapsed": false
   },
   "outputs": [
    {
     "name": "stdout",
     "output_type": "stream",
     "text": [
      "Timer expired\n"
     ]
    }
   ],
   "source": [
    "import time\n",
    "timeoutValue = 3\n",
    "counter = 0\n",
    "while True:\n",
    "    counter = counter + 1\n",
    "    time.sleep(1)\n",
    "    \n",
    "    if counter == timeoutValue:\n",
    "        print \"Timer expired\"\n",
    "        break"
   ]
  },
  {
   "cell_type": "code",
   "execution_count": 47,
   "metadata": {
    "collapsed": false
   },
   "outputs": [
    {
     "name": "stdout",
     "output_type": "stream",
     "text": [
      "Timer expired\n"
     ]
    }
   ],
   "source": [
    "import time\n",
    "timeoutValue = 5\n",
    "counter = 0\n",
    "while counter <= timeoutValue:\n",
    "    counter = counter + 1\n",
    "    time.sleep(1)\n",
    "    \n",
    "print \"Timer expired\""
   ]
  },
  {
   "cell_type": "code",
   "execution_count": 48,
   "metadata": {
    "collapsed": false
   },
   "outputs": [
    {
     "data": {
      "text/plain": [
       "[1, 2, 3, 4, 5, 6, 7, 8, 9]"
      ]
     },
     "execution_count": 48,
     "metadata": {},
     "output_type": "execute_result"
    }
   ],
   "source": [
    "# using while loop to find an employee id\n",
    "range(1,10)"
   ]
  },
  {
   "cell_type": "code",
   "execution_count": 52,
   "metadata": {
    "collapsed": false
   },
   "outputs": [
    {
     "name": "stdout",
     "output_type": "stream",
     "text": [
      "Enter the employee to look for:Sam\n",
      "Employee found\n"
     ]
    }
   ],
   "source": [
    "searchName = raw_input(\"Enter the employee to look for:\")\n",
    "for employeeName in [\"Joe\",\"Sam\",\"Mary\",\"Susan\",\"Abby\"]:\n",
    "    if employeeName == searchName:\n",
    "        print \"Employee found\"\n",
    "        break"
   ]
  },
  {
   "cell_type": "code",
   "execution_count": 53,
   "metadata": {
    "collapsed": false
   },
   "outputs": [
    {
     "name": "stdout",
     "output_type": "stream",
     "text": [
      "Enter a number:6\n",
      "Keep Guessing...\n",
      "Enter a number:9\n",
      "Keep Guessing...\n",
      "Enter a number:4\n",
      "Keep Guessing...\n",
      "Enter a number:0\n",
      "Keep Guessing...\n",
      "Enter a number:8\n",
      "Yippee! Found the number\n"
     ]
    }
   ],
   "source": [
    "# guessing game\n",
    "numberIAmThinkingOf = 8\n",
    "while True:\n",
    "    number = int(raw_input(\"Enter a number:\"))\n",
    "    \n",
    "    if number == numberIAmThinkingOf:\n",
    "        print \"Yippee! Found the number\"\n",
    "        break\n",
    "    else:\n",
    "        print \"Keep Guessing...\""
   ]
  },
  {
   "cell_type": "code",
   "execution_count": 57,
   "metadata": {
    "collapsed": false
   },
   "outputs": [
    {
     "name": "stdout",
     "output_type": "stream",
     "text": [
      "Student Age: 30  Student Name: Sam Walton\n",
      "Student Age:30 Student Name:Sam Walton\n"
     ]
    }
   ],
   "source": [
    "## Printing examples\n",
    "\n",
    "studentAge = 30\n",
    "studentName = \"Sam Walton\"\n",
    "\n",
    "print \"Student Age:\", studentAge, \" Student Name:\", studentName\n",
    "\n",
    "print \"Student Age:%d Student Name:%s\" % (studentAge,studentName)\n",
    "\n"
   ]
  },
  {
   "cell_type": "markdown",
   "metadata": {},
   "source": [
    "### Lab Exercise 2\n",
    "Write a **Python** program to get the Python version you are using. "
   ]
  },
  {
   "cell_type": "code",
   "execution_count": 58,
   "metadata": {
    "collapsed": false
   },
   "outputs": [
    {
     "name": "stdout",
     "output_type": "stream",
     "text": [
      "Python 2.7.12 :: Continuum Analytics, Inc.\r\n"
     ]
    }
   ],
   "source": [
    "!python --version"
   ]
  },
  {
   "cell_type": "markdown",
   "metadata": {},
   "source": [
    "### Lab Exercise 3\n",
    "Write a Python program to display the current date and time."
   ]
  },
  {
   "cell_type": "code",
   "execution_count": 78,
   "metadata": {
    "collapsed": false
   },
   "outputs": [
    {
     "name": "stdout",
     "output_type": "stream",
     "text": [
      "2017-09-14 20:48:54.756329\n"
     ]
    }
   ],
   "source": [
    "import datetime\n",
    "\n",
    "print datetime.datetime.now()"
   ]
  },
  {
   "cell_type": "markdown",
   "metadata": {},
   "source": [
    "### Lab Exercise 4\n",
    "Write a Python program which accepts the radius of a circle from the user and compute the area"
   ]
  },
  {
   "cell_type": "code",
   "execution_count": 80,
   "metadata": {
    "collapsed": false
   },
   "outputs": [
    {
     "name": "stdout",
     "output_type": "stream",
     "text": [
      "Enter the radius:9.5\n",
      "283.385\n"
     ]
    }
   ],
   "source": [
    "radius = float(raw_input(\"Enter the radius:\"))\n",
    "\n",
    "area = 3.14 * radius**2\n",
    "\n",
    "print area"
   ]
  },
  {
   "cell_type": "markdown",
   "metadata": {},
   "source": [
    "### Lab Exercise 5\n",
    "Write a Python program which accepts the user's first and last name and print them in reverse order with a space between them"
   ]
  },
  {
   "cell_type": "code",
   "execution_count": 81,
   "metadata": {
    "collapsed": false
   },
   "outputs": [
    {
     "name": "stdout",
     "output_type": "stream",
     "text": [
      "Enter the first name:Harry\n",
      "Enter the last nameTruman\n",
      "Truman Harry\n"
     ]
    }
   ],
   "source": [
    "firstName = raw_input(\"Enter the first name:\")\n",
    "lastName = raw_input(\"Enter the last name\")\n",
    "\n",
    "print \"%s %s\" % (lastName,firstName)"
   ]
  },
  {
   "cell_type": "code",
   "execution_count": 6,
   "metadata": {
    "collapsed": false
   },
   "outputs": [
    {
     "name": "stdout",
     "output_type": "stream",
     "text": [
      "09/14/2017 09:09 PM\n"
     ]
    }
   ],
   "source": [
    "import time\n",
    "localtime = time.strftime(\"%m/%d/%Y %I:%M %p\")\n",
    "\n",
    "print localtime"
   ]
  },
  {
   "cell_type": "markdown",
   "metadata": {},
   "source": [
    "### Exercise 7\n",
    "Write a Python program to accept a filename from the user and print the extension of that"
   ]
  },
  {
   "cell_type": "code",
   "execution_count": 13,
   "metadata": {
    "collapsed": false
   },
   "outputs": [
    {
     "name": "stdout",
     "output_type": "stream",
     "text": [
      "Enter the name of the file with extension:test.txt\n",
      "The extension is txt\n"
     ]
    }
   ],
   "source": [
    "fileName = raw_input(\"Enter the name of the file with extension:\")\n",
    "file_name,extension = fileName.split(\".\")\n",
    "print \"The extension is %s\" % (extension)"
   ]
  },
  {
   "cell_type": "markdown",
   "metadata": {},
   "source": [
    "### Exercise 10\n",
    "Write a Python program that accepts an integer (n) and computes the value of n+nn+nnn"
   ]
  },
  {
   "cell_type": "code",
   "execution_count": 25,
   "metadata": {
    "collapsed": false
   },
   "outputs": [
    {
     "name": "stdout",
     "output_type": "stream",
     "text": [
      "Enter a number:5\n",
      "n+nn+nnn is:615\n"
     ]
    }
   ],
   "source": [
    "number = int(raw_input(\"Enter a number:\"))\n",
    "numberString = str(number)\n",
    "\n",
    "nn = numberString + numberString\n",
    "nnn = nn + numberString\n",
    "\n",
    "print \"n+nn+nnn is:%s\" % (int(number) + int(nn) + int(nnn))"
   ]
  },
  {
   "cell_type": "code",
   "execution_count": null,
   "metadata": {
    "collapsed": true
   },
   "outputs": [],
   "source": []
  }
 ],
 "metadata": {
  "kernelspec": {
   "display_name": "Python 2",
   "language": "python",
   "name": "python2"
  },
  "language_info": {
   "codemirror_mode": {
    "name": "ipython",
    "version": 2
   },
   "file_extension": ".py",
   "mimetype": "text/x-python",
   "name": "python",
   "nbconvert_exporter": "python",
   "pygments_lexer": "ipython2",
   "version": "2.7.10"
  }
 },
 "nbformat": 4,
 "nbformat_minor": 1
}
